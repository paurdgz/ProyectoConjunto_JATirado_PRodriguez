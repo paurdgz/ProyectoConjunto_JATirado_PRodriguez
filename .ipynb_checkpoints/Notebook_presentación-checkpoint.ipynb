{
 "cells": [
  {
   "cell_type": "markdown",
   "metadata": {},
   "source": [
    "# Tarea 1\n"
   ]
  },
  {
   "cell_type": "markdown",
   "metadata": {},
   "source": [
    "#### José Antonio Tirado Zatarain\n",
    "#### Paulina Rodriguez"
   ]
  },
  {
   "cell_type": "markdown",
   "metadata": {},
   "source": [
    "## <font color = red > Nuestras expectativas"
   ]
  },
  {
   "cell_type": "markdown",
   "metadata": {},
   "source": [
    "## Antonio Tirado\n",
    "Tengo la expectativa de que este curso sea muy interesante, gracias a la introduccion que el profesor nos a dado pienso que a lo largo del semestre vamos a adquirir conocimientos para poder realizar simulaciones optimas y efectivas en problemas financieros, para así poder predecir comportamientos de activos, saber cual es el portafolio optimo o saber el riesgo de algun activo.\n",
    "\n",
    "## Paulina Rodriguez\n",
    "\n"
   ]
  },
  {
   "cell_type": "markdown",
   "metadata": {},
   "source": [
    "#### La expectativa que tengo de la materia es mejorar mis conocimientos de programacion, gracias a la introduccion del profesor, creo que la materia sera un desafio para mi ya que es un area de la carrera que se me complica pero creo que aprendere mucho y reforzare mis conocimientos de el"
   ]
  },
  {
   "cell_type": "markdown",
   "metadata": {},
   "source": [
    "### Esperamos simular el modelo de Markowitz para encontrar el portafolio que a menor riesgo nos de una mayor rentabilidad."
   ]
  },
  {
   "cell_type": "markdown",
   "metadata": {},
   "source": [
    "  "
   ]
  },
  {
   "cell_type": "markdown",
   "metadata": {},
   "source": [
    "<img style=\"float: left; margin: 15px 15px 15px 15px;\" src=\"https://www.turtletrader.com/images/modern_portfolio.gif\" width=\"720\" height=\"200\" />"
   ]
  },
  {
   "cell_type": "code",
   "execution_count": null,
   "metadata": {
    "collapsed": true
   },
   "outputs": [],
   "source": []
  }
 ],
 "metadata": {
  "kernelspec": {
   "display_name": "Python [Root]",
   "language": "python",
   "name": "Python [Root]"
  },
  "language_info": {
   "codemirror_mode": {
    "name": "ipython",
    "version": 3
   },
   "file_extension": ".py",
   "mimetype": "text/x-python",
   "name": "python",
   "nbconvert_exporter": "python",
   "pygments_lexer": "ipython3",
   "version": "3.5.2"
  }
 },
 "nbformat": 4,
 "nbformat_minor": 2
}
